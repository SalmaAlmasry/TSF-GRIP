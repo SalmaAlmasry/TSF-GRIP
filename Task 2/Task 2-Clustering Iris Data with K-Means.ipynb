{
 "cells": [
  {
   "cell_type": "markdown",
   "id": "06a829d9",
   "metadata": {},
   "source": [
    "# Task 2"
   ]
  },
  {
   "cell_type": "markdown",
   "id": "e06f38a1",
   "metadata": {},
   "source": [
    "## Clustering Iris Data Using K-Means"
   ]
  },
  {
   "cell_type": "markdown",
   "id": "3495dbb2",
   "metadata": {},
   "source": [
    "First, let's import all the needed modeules and libraries"
   ]
  },
  {
   "cell_type": "code",
   "execution_count": 6,
   "id": "69d54817",
   "metadata": {},
   "outputs": [],
   "source": [
    "import pandas as pd\n",
    "import numpy as np\n",
    "import matplotlib.pyplot as plt\n",
    "from sklearn.cluster import KMeans\n",
    "from sklearn.preprocessing import MinMaxScaler\n",
    "from sklearn import datasets"
   ]
  },
  {
   "cell_type": "markdown",
   "id": "abde74e3",
   "metadata": {},
   "source": [
    "now, we need to explore our data"
   ]
  },
  {
   "cell_type": "code",
   "execution_count": 4,
   "id": "165061b6",
   "metadata": {},
   "outputs": [
    {
     "data": {
      "text/html": [
       "<div>\n",
       "<style scoped>\n",
       "    .dataframe tbody tr th:only-of-type {\n",
       "        vertical-align: middle;\n",
       "    }\n",
       "\n",
       "    .dataframe tbody tr th {\n",
       "        vertical-align: top;\n",
       "    }\n",
       "\n",
       "    .dataframe thead th {\n",
       "        text-align: right;\n",
       "    }\n",
       "</style>\n",
       "<table border=\"1\" class=\"dataframe\">\n",
       "  <thead>\n",
       "    <tr style=\"text-align: right;\">\n",
       "      <th></th>\n",
       "      <th>sepal length (cm)</th>\n",
       "      <th>sepal width (cm)</th>\n",
       "      <th>petal length (cm)</th>\n",
       "      <th>petal width (cm)</th>\n",
       "    </tr>\n",
       "  </thead>\n",
       "  <tbody>\n",
       "    <tr>\n",
       "      <th>0</th>\n",
       "      <td>5.1</td>\n",
       "      <td>3.5</td>\n",
       "      <td>1.4</td>\n",
       "      <td>0.2</td>\n",
       "    </tr>\n",
       "    <tr>\n",
       "      <th>1</th>\n",
       "      <td>4.9</td>\n",
       "      <td>3.0</td>\n",
       "      <td>1.4</td>\n",
       "      <td>0.2</td>\n",
       "    </tr>\n",
       "    <tr>\n",
       "      <th>2</th>\n",
       "      <td>4.7</td>\n",
       "      <td>3.2</td>\n",
       "      <td>1.3</td>\n",
       "      <td>0.2</td>\n",
       "    </tr>\n",
       "    <tr>\n",
       "      <th>3</th>\n",
       "      <td>4.6</td>\n",
       "      <td>3.1</td>\n",
       "      <td>1.5</td>\n",
       "      <td>0.2</td>\n",
       "    </tr>\n",
       "    <tr>\n",
       "      <th>4</th>\n",
       "      <td>5.0</td>\n",
       "      <td>3.6</td>\n",
       "      <td>1.4</td>\n",
       "      <td>0.2</td>\n",
       "    </tr>\n",
       "  </tbody>\n",
       "</table>\n",
       "</div>"
      ],
      "text/plain": [
       "   sepal length (cm)  sepal width (cm)  petal length (cm)  petal width (cm)\n",
       "0                5.1               3.5                1.4               0.2\n",
       "1                4.9               3.0                1.4               0.2\n",
       "2                4.7               3.2                1.3               0.2\n",
       "3                4.6               3.1                1.5               0.2\n",
       "4                5.0               3.6                1.4               0.2"
      ]
     },
     "execution_count": 4,
     "metadata": {},
     "output_type": "execute_result"
    }
   ],
   "source": [
    "iris_data = datasets.load_iris()\n",
    "iris = pd.DataFrame(iris_data.data, columns= iris_data.feature_names)\n",
    "iris.head()"
   ]
  },
  {
   "cell_type": "markdown",
   "id": "23e284ec",
   "metadata": {},
   "source": [
    "Apparently, our data is all continous and ready to be scaled."
   ]
  },
  {
   "cell_type": "code",
   "execution_count": 7,
   "id": "48e49f1a",
   "metadata": {},
   "outputs": [],
   "source": [
    "#scale our data to give same importance to all features\n",
    "mms = MinMaxScaler()\n",
    "mms.fit(iris)\n",
    "iris_scaled = mms.transform(iris)"
   ]
  },
  {
   "cell_type": "markdown",
   "id": "f1c3af35",
   "metadata": {},
   "source": [
    "After scaling, it's time to get our optimal k (number of clusters)."
   ]
  },
  {
   "cell_type": "code",
   "execution_count": 8,
   "id": "10da4126",
   "metadata": {},
   "outputs": [
    {
     "name": "stderr",
     "output_type": "stream",
     "text": [
      "C:\\Users\\user\\anaconda3\\lib\\site-packages\\sklearn\\cluster\\_kmeans.py:1036: UserWarning: KMeans is known to have a memory leak on Windows with MKL, when there are less chunks than available threads. You can avoid it by setting the environment variable OMP_NUM_THREADS=1.\n",
      "  warnings.warn(\n"
     ]
    },
    {
     "data": {
      "text/plain": [
       "[41.16611042137328,\n",
       " 12.127790750538193,\n",
       " 6.982216473785235,\n",
       " 5.51693347204037,\n",
       " 4.580948640117294,\n",
       " 3.9248256390278486,\n",
       " 3.4749657414092536,\n",
       " 3.144366769187122,\n",
       " 2.8067677838368854,\n",
       " 2.540069361857268,\n",
       " 2.273443273638064,\n",
       " 2.195961543025901,\n",
       " 2.0311703592769343,\n",
       " 1.968693034267769,\n",
       " 1.8060047340754666]"
      ]
     },
     "execution_count": 8,
     "metadata": {},
     "output_type": "execute_result"
    }
   ],
   "source": [
    "#we will set a range for k to check for best option in this range \n",
    "K = range(1,16)\n",
    "#for each k we will initialize a k-means model and calculate sum of squared distances using inertia_ \n",
    "sq_dist = []\n",
    "for k in K:\n",
    "    km = KMeans(k)\n",
    "    km.fit(iris_scaled)\n",
    "    sq_dist.append(km.inertia_)\n",
    "sq_dist"
   ]
  },
  {
   "cell_type": "markdown",
   "id": "152fe42a",
   "metadata": {},
   "source": [
    "the less the squared distance the better but without unnecessary increasing the number of clusters, let's plot for better readability."
   ]
  },
  {
   "cell_type": "code",
   "execution_count": 13,
   "id": "217ffa3e",
   "metadata": {},
   "outputs": [
    {
     "data": {
      "image/png": "[encoded data removed]",
      "text/plain": [
       "<Figure size 432x288 with 1 Axes>"
      ]
     },
     "metadata": {
      "needs_background": "light"
     },
     "output_type": "display_data"
    }
   ],
   "source": [
    "plt.plot(K, sq_dist, 'gx-')\n",
    "plt.title('Elbow Method for Optimal k')\n",
    "plt.xlabel('k')\n",
    "plt.ylabel('Sum of squared distances')\n",
    "plt.show();"
   ]
  },
  {
   "cell_type": "markdown",
   "id": "ada7adde",
   "metadata": {},
   "source": [
    "now it's more obvious, we will take the number of clusters at the elbow of the figure that will be the best or optimal k, here it is 3."
   ]
  },
  {
   "cell_type": "markdown",
   "id": "78f89ce5",
   "metadata": {},
   "source": [
    "Now, let's build our model with the optimal k we got.\n"
   ]
  },
  {
   "cell_type": "code",
   "execution_count": 16,
   "id": "f5ce4379",
   "metadata": {},
   "outputs": [
    {
     "data": {
      "text/plain": [
       "array([0, 0, 0, 0, 0, 0, 0, 0, 0, 0, 0, 0, 0, 0, 0, 0, 0, 0, 0, 0, 0, 0,\n",
       "       0, 0, 0, 0, 0, 0, 0, 0, 0, 0, 0, 0, 0, 0, 0, 0, 0, 0, 0, 0, 0, 0,\n",
       "       0, 0, 0, 0, 0, 0, 2, 1, 2, 1, 1, 1, 1, 1, 1, 1, 1, 1, 1, 1, 1, 1,\n",
       "       1, 1, 1, 1, 1, 1, 1, 1, 1, 1, 1, 2, 1, 1, 1, 1, 1, 1, 1, 1, 1, 1,\n",
       "       1, 1, 1, 1, 1, 1, 1, 1, 1, 1, 1, 1, 2, 1, 2, 2, 2, 2, 1, 2, 2, 2,\n",
       "       2, 2, 2, 1, 2, 2, 2, 2, 2, 1, 2, 1, 2, 1, 2, 2, 1, 1, 2, 2, 2, 2,\n",
       "       2, 1, 1, 2, 2, 2, 1, 2, 2, 2, 1, 2, 2, 2, 1, 2, 2, 1])"
      ]
     },
     "execution_count": 16,
     "metadata": {},
     "output_type": "execute_result"
    }
   ],
   "source": [
    "model = KMeans(3)\n",
    "y = model.fit_predict(iris_scaled)\n",
    "y"
   ]
  },
  {
   "cell_type": "markdown",
   "id": "765bc7de",
   "metadata": {},
   "source": [
    "And done, we got our predictions and optimal clusters right."
   ]
  },
  {
   "cell_type": "code",
   "execution_count": null,
   "id": "2ff9e929",
   "metadata": {},
   "outputs": [],
   "source": []
  }
 ],
 "metadata": {
  "kernelspec": {
   "display_name": "Python 3 (ipykernel)",
   "language": "python",
   "name": "python3"
  },
  "language_info": {
   "codemirror_mode": {
    "name": "ipython",
    "version": 3
   },
   "file_extension": ".py",
   "mimetype": "text/x-python",
   "name": "python",
   "nbconvert_exporter": "python",
   "pygments_lexer": "ipython3",
   "version": "3.8.12"
  }
 },
 "nbformat": 4,
 "nbformat_minor": 5
}
